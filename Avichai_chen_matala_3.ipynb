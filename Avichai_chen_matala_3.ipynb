{
 "cells": [
  {
   "cell_type": "markdown",
   "id": "d8a0db22-65f8-4ece-8496-a1762bd3f74a",
   "metadata": {},
   "source": [
    "# Avichai Chen - Assigment 3"
   ]
  },
  {
   "cell_type": "markdown",
   "id": "0f3e8a8d-9de0-43f4-89d1-b38e8ad5a93f",
   "metadata": {},
   "source": [
    "### Import of different libraries for the benefit of the assignment:"
   ]
  },
  {
   "cell_type": "code",
   "execution_count": 1,
   "id": "de02a05e-4a50-46e7-82cb-ec87468004a0",
   "metadata": {},
   "outputs": [],
   "source": [
    "import pandas as pd\n",
    "import json\n",
    "import requests\n",
    "import urllib.request"
   ]
  },
  {
   "cell_type": "markdown",
   "id": "1eb8e9de-d3f0-4533-9b2a-f100633e29b6",
   "metadata": {
    "tags": []
   },
   "source": [
    "### Read the txt file into list:"
   ]
  },
  {
   "cell_type": "code",
   "execution_count": 2,
   "id": "49b53aeb-0398-4968-91b9-7cd7846fe3dd",
   "metadata": {},
   "outputs": [],
   "source": [
    "f = open('dests.txt',\"r\")\n",
    "dest = f.read().split()"
   ]
  },
  {
   "cell_type": "markdown",
   "id": "8eebb60e-645b-416f-b5c7-f25e6b9c99b0",
   "metadata": {},
   "source": [
    "### Function to read from Googleapis all parameters:"
   ]
  },
  {
   "cell_type": "code",
   "execution_count": 3,
   "id": "c0dd5e08-c6a9-4a6a-9b5e-83a211223787",
   "metadata": {},
   "outputs": [],
   "source": [
    "def Googleapis_data (dest,key):\n",
    "    serviceurl='https://maps.googleapis.com/maps/api/distancematrix/json?'\n",
    "    d = {}\n",
    "    d['destinations'] = dest\n",
    "    d['origins'] = 'Tel Aviv'\n",
    "    d['key'] = key\n",
    "    url = serviceurl + urllib.parse.urlencode(d)\n",
    "\n",
    "    serviceurl2=\"https://maps.googleapis.com/maps/api/geocode/json?\"\n",
    "    d2 = {}\n",
    "    d2['address'] = dest\n",
    "    d2['key'] = key\n",
    "    url2 = serviceurl2 + urllib.parse.urlencode(d2)\n",
    "    \n",
    "    try:\n",
    "        response = requests.get(url)\n",
    "        response2 = requests.get(url2)\n",
    "        if not response.status_code == 200:\n",
    "            print(\"HTTP error\",response.status_code)\n",
    "        elif not response2.status_code == 200:\n",
    "            print(\"HTTP error\",response2.status_code)\n",
    "            \n",
    "        else:\n",
    "            try:\n",
    "                response_data = response.json()\n",
    "                distance = response_data['rows'][0]['elements'][0]['distance']['value'] / 1000\n",
    "                seconds = response_data['rows'][0]['elements'][0]['duration']['value']\n",
    "                minutes = (seconds // 60) % 60\n",
    "                hours = seconds // 3600\n",
    "                duration = str(hours) + \" hours + \" + str (minutes) + \" minutes\"  \n",
    "                \n",
    "                response_data2 = response2.json()\n",
    "                longitude = (response_data2['results'][0]['geometry']['location']['lng'])\n",
    "                latitude = (response_data2['results'][0]['geometry']['location']['lat'])\n",
    "                \n",
    "                return {\"Target\":dest,\"Distance_km\":distance,\"Duration(hour+minutes)\":duration,\"Longitude\":longitude,\"Latitude\":latitude}\n",
    "            \n",
    "            except:\n",
    "                print(\"Response not in valid JSON format\")\n",
    "    except:\n",
    "        print(\"Something went wrong with requests.get\")"
   ]
  },
  {
   "cell_type": "markdown",
   "id": "655add8b-5549-4a22-b8c9-59c7516fdfbb",
   "metadata": {},
   "source": [
    "### Calculate the parametes with the function for each target and enter to data frame:"
   ]
  },
  {
   "cell_type": "code",
   "execution_count": 4,
   "id": "4d41a353-49fb-4eba-9458-56a15773f72e",
   "metadata": {},
   "outputs": [],
   "source": [
    "df = pd.DataFrame()\n",
    "# key = \"enter your key\"\n",
    "\n",
    "for d in dest:\n",
    "    new_row = pd.DataFrame(Googleapis_data(d,key), index=[0])\n",
    "    df = pd.concat([df, new_row], ignore_index=True)"
   ]
  },
  {
   "cell_type": "markdown",
   "id": "5ae3e096-33a8-470a-92e4-57a0057efa35",
   "metadata": {},
   "source": [
    "### The information should be stored in a dataframe of the following structure:"
   ]
  },
  {
   "cell_type": "code",
   "execution_count": 5,
   "id": "5a5feff0-8521-4567-bda0-182b89265cb9",
   "metadata": {},
   "outputs": [
    {
     "data": {
      "text/html": [
       "<div>\n",
       "<style scoped>\n",
       "    .dataframe tbody tr th:only-of-type {\n",
       "        vertical-align: middle;\n",
       "    }\n",
       "\n",
       "    .dataframe tbody tr th {\n",
       "        vertical-align: top;\n",
       "    }\n",
       "\n",
       "    .dataframe thead th {\n",
       "        text-align: right;\n",
       "    }\n",
       "</style>\n",
       "<table border=\"1\" class=\"dataframe\">\n",
       "  <thead>\n",
       "    <tr style=\"text-align: right;\">\n",
       "      <th></th>\n",
       "      <th>Target</th>\n",
       "      <th>Distance_km</th>\n",
       "      <th>Duration(hour+minutes)</th>\n",
       "      <th>Longitude</th>\n",
       "      <th>Latitude</th>\n",
       "    </tr>\n",
       "  </thead>\n",
       "  <tbody>\n",
       "    <tr>\n",
       "      <th>0</th>\n",
       "      <td>Istanbul</td>\n",
       "      <td>1815.227</td>\n",
       "      <td>21 hours + 2 minutes</td>\n",
       "      <td>28.978359</td>\n",
       "      <td>41.008238</td>\n",
       "    </tr>\n",
       "    <tr>\n",
       "      <th>1</th>\n",
       "      <td>Amsterdam</td>\n",
       "      <td>4532.541</td>\n",
       "      <td>48 hours + 3 minutes</td>\n",
       "      <td>4.904139</td>\n",
       "      <td>52.367573</td>\n",
       "    </tr>\n",
       "    <tr>\n",
       "      <th>2</th>\n",
       "      <td>Valletta</td>\n",
       "      <td>3792.883</td>\n",
       "      <td>50 hours + 50 minutes</td>\n",
       "      <td>14.514100</td>\n",
       "      <td>35.899237</td>\n",
       "    </tr>\n",
       "    <tr>\n",
       "      <th>3</th>\n",
       "      <td>Basel</td>\n",
       "      <td>4092.805</td>\n",
       "      <td>44 hours + 2 minutes</td>\n",
       "      <td>7.588576</td>\n",
       "      <td>47.559599</td>\n",
       "    </tr>\n",
       "    <tr>\n",
       "      <th>4</th>\n",
       "      <td>Doha</td>\n",
       "      <td>2164.477</td>\n",
       "      <td>22 hours + 38 minutes</td>\n",
       "      <td>51.531040</td>\n",
       "      <td>25.285447</td>\n",
       "    </tr>\n",
       "  </tbody>\n",
       "</table>\n",
       "</div>"
      ],
      "text/plain": [
       "      Target  Distance_km Duration(hour+minutes)  Longitude   Latitude\n",
       "0   Istanbul     1815.227   21 hours + 2 minutes  28.978359  41.008238\n",
       "1  Amsterdam     4532.541   48 hours + 3 minutes   4.904139  52.367573\n",
       "2   Valletta     3792.883  50 hours + 50 minutes  14.514100  35.899237\n",
       "3      Basel     4092.805   44 hours + 2 minutes   7.588576  47.559599\n",
       "4       Doha     2164.477  22 hours + 38 minutes  51.531040  25.285447"
      ]
     },
     "execution_count": 5,
     "metadata": {},
     "output_type": "execute_result"
    }
   ],
   "source": [
    "df"
   ]
  },
  {
   "cell_type": "markdown",
   "id": "d7a2706d-c6e1-44fa-9298-a60e864f735a",
   "metadata": {},
   "source": [
    "### Find the 3 cities furthest from Tel Aviv:"
   ]
  },
  {
   "cell_type": "code",
   "execution_count": 6,
   "id": "271f8992-88a6-4c30-8e3e-945a78e4748d",
   "metadata": {},
   "outputs": [
    {
     "data": {
      "text/plain": [
       "1    Amsterdam\n",
       "3        Basel\n",
       "2     Valletta\n",
       "Name: Target, dtype: object"
      ]
     },
     "execution_count": 6,
     "metadata": {},
     "output_type": "execute_result"
    }
   ],
   "source": [
    "df2 = df.sort_values('Distance_km',ascending=False)[0:3]\n",
    "df2['Target']"
   ]
  }
 ],
 "metadata": {
  "kernelspec": {
   "display_name": "Python 3",
   "language": "python",
   "name": "python3"
  },
  "language_info": {
   "codemirror_mode": {
    "name": "ipython",
    "version": 3
   },
   "file_extension": ".py",
   "mimetype": "text/x-python",
   "name": "python",
   "nbconvert_exporter": "python",
   "pygments_lexer": "ipython3",
   "version": "3.8.8"
  }
 },
 "nbformat": 4,
 "nbformat_minor": 5
}
